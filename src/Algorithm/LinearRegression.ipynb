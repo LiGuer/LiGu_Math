{
 "cells": [
  {
   "cell_type": "code",
   "execution_count": 7,
   "id": "1b7a6a93",
   "metadata": {},
   "outputs": [],
   "source": [
    "import numpy as np  \n",
    "import matplotlib.pyplot as plt"
   ]
  },
  {
   "cell_type": "code",
   "execution_count": 6,
   "id": "88b2946e",
   "metadata": {},
   "outputs": [
    {
     "name": "stdout",
     "output_type": "stream",
     "text": [
      "[1.03647084 1.94143311 1.01559113 0.99885876]\n"
     ]
    },
    {
     "data": {
      "text/plain": [
       "[<matplotlib.lines.Line2D at 0x1c875d1eb20>]"
      ]
     },
     "execution_count": 6,
     "metadata": {},
     "output_type": "execute_result"
    },
    {
     "data": {
      "image/png": "[encoded data removed]",
      "text/plain": [
       "<Figure size 432x288 with 1 Axes>"
      ]
     },
     "metadata": {
      "needs_background": "light"
     },
     "output_type": "display_data"
    }
   ],
   "source": [
    "X = []\n",
    "y = []\n",
    "\n",
    "def LinearRegression(X, y):\n",
    "    w = np.matmul(np.linalg.pinv(X), y)\n",
    "    return w\n",
    "\n",
    "for i in range(10):\n",
    "    X.append([1, i, i**2, i**3])\n",
    "    y.append(i**3 + i**2 + 2 * i + 1 + np.random.normal(0, 0.1))\n",
    "X = np.array(X)\n",
    "y = np.array(y)\n",
    "\n",
    "w = LinearRegression(X, y)\n",
    "print(w)\n",
    "\n",
    "plt.plot(X[:, 1], y, '.')\n",
    "t_x = np.arange(0, 10, 0.1)\n",
    "t_y = w[3] * t_x**3 + w[2] * t_x**2 + w[1] * t_x + w[0]\n",
    "plt.plot(t_x, t_y)"
   ]
  },
  {
   "cell_type": "code",
   "execution_count": null,
   "id": "5e2a5d84",
   "metadata": {},
   "outputs": [],
   "source": []
  }
 ],
 "metadata": {
  "kernelspec": {
   "display_name": "Python 3 (ipykernel)",
   "language": "python",
   "name": "python3"
  },
  "language_info": {
   "codemirror_mode": {
    "name": "ipython",
    "version": 3
   },
   "file_extension": ".py",
   "mimetype": "text/x-python",
   "name": "python",
   "nbconvert_exporter": "python",
   "pygments_lexer": "ipython3",
   "version": "3.9.7"
  }
 },
 "nbformat": 4,
 "nbformat_minor": 5
}
